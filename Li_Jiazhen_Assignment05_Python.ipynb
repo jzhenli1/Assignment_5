{
 "cells": [
  {
   "cell_type": "markdown",
   "metadata": {},
   "source": [
    "---\n",
    "\n",
    "# DS400: Assignment V (Python)\n",
    "\n",
    "##### Jiazhen Li (Student ID: 6295370)\n",
    "##### January 26, 2023\n",
    "\n",
    "---"
   ]
  },
  {
   "cell_type": "code",
   "execution_count": null,
   "metadata": {},
   "outputs": [],
   "source": [
    "import numpy as np\n",
    "import pandas as pd\n",
    "import requests\n",
    "import time"
   ]
  },
  {
   "cell_type": "markdown",
   "metadata": {},
   "source": [
    "\n",
    "\n",
    "\n",
    "### Repeated operations\n",
    "\n",
    "\n",
    "<div class=\"alert alert-block alert-info\">\n",
    "    \n",
    "1. Create two vectors called ``vec1`` and ``vec2`` that each contain 50,000 random draws from the integer numbers between 1 and 100. Make sure the \"random\" operation produces the same results when the code is re-evaluated.\n",
    "</div>"
   ]
  },
  {
   "cell_type": "code",
   "execution_count": null,
   "metadata": {},
   "outputs": [],
   "source": []
  },
  {
   "cell_type": "markdown",
   "metadata": {},
   "source": [
    "Consider the following ``for`` loop in R that subtracts the values of ``vec1`` and ``vec2`` from each other element-wise, squares the differences, and then takes the square root. The results are stored in the vector ``absoluteDifferences``.\n",
    "\n",
    "```{r}\n",
    "# Initiate empty object to store maximum values per row:\n",
    "absoluteDifferences <- NULL\n",
    "\n",
    "# Iterate through rows, find absolute difference, and append the value to the \n",
    "# object 'absoluteDifferences':\n",
    "for (i in 1:length(vec1)){\n",
    "  absoluteDifferences <- c(absoluteDifferences, sqrt((vec1[i] - vec2[i])^2))\n",
    "}\n",
    "```\n",
    "\n",
    "This operation is not coded efficiently regarding several aspects.\n",
    "\n",
    "\n",
    "<div class=\"alert alert-block alert-info\">\n",
    "    \n",
    "3. Try and find one solution in Python that speeds up the operation. Explain the intuition behind this solution and why it leads to an efficiency gain. Track speed and compare with your timings from task 2 in R!\n",
    "</div>"
   ]
  },
  {
   "cell_type": "code",
   "execution_count": null,
   "metadata": {},
   "outputs": [],
   "source": []
  },
  {
   "cell_type": "markdown",
   "metadata": {},
   "source": [
    "---\n",
    "\n",
    "# SQL wrapper functions in Python\n",
    "\n",
    "Remember that the `DBI` package has the two convenient functions `dbListTables()` and `dbListFields()` to list all tables of a database and to list all fields in a table, respectively?\n",
    "\n",
    "In the next two tasks, you have to create corresponding functions in Python. To make your life easier, assume that you only want to connect to MySQL databases. Further, assume that all databases you might want to connect to have as database names only word characters (equivalent to [a-zA-Z0-9_]). \n",
    "\n",
    "\n",
    "<div class=\"alert alert-block alert-info\">\n",
    "    \n",
    "4. Create the function `dbListTables()`. The function should take only a connection object (as created by {sqlalchemy}'s `create_engine` function) as input. The function should then return all tables that are part of the connected database as a *list of strings*. Within the function, extract the name of the database from the connection URL (the URL is stored in `con.url`) and use an SQL query to retrieve the tables.\n",
    "</div> \n",
    "\n",
    "An exemplary function call (assuming you have connected to the `tweater` database as shown in the class exercises) should look like this:\n",
    "    \n",
    "```\n",
    "In [1]: dbListTables(con)\n",
    "Out[1]: ['comments', 'tweats', 'users']\n",
    "```"
   ]
  },
  {
   "cell_type": "code",
   "execution_count": null,
   "metadata": {},
   "outputs": [],
   "source": []
  },
  {
   "cell_type": "markdown",
   "metadata": {},
   "source": [
    "<div class=\"alert alert-block alert-info\">\n",
    "\n",
    "5. Create the function `dbListFields()`. The function should take a connection object (as created by {sqlalchemy}'s `create_engine` function) as well as the name of a table as input. The function should then return all fields (i.e., columns) that are part of the requested table as a *list of strings*. As in the previous exercise, extract the name of the database from the connection URL and use an SQL query to retrieve the fields.  \n",
    "</div>\n",
    "\n",
    "An exemplary function call (assuming you have connected to the `tweater` database as shown in the class exercises) should look like this:\n",
    "    \n",
    "```\n",
    "In [1]: dbListFields(con, 'comments')\n",
    "Out[1]: ['id', 'tweat_id', 'user_id', 'message']\n",
    "```"
   ]
  },
  {
   "cell_type": "code",
   "execution_count": null,
   "metadata": {},
   "outputs": [],
   "source": []
  },
  {
   "cell_type": "markdown",
   "metadata": {},
   "source": [
    "---\n",
    "\n",
    "# SQLite Database Management – Soccer Data\n",
    "\n",
    "The SQLite database ``soccer.sqlite`` (located in ``soccer.zip``) contains information about over 24,000 soccer matches in different countries and leagues, the competing teams, and the players that appeared in the respective matches. The data is stored in a relational format and information can be joined as as displayed in the instructions PDF.\n",
    "\n",
    "Execute the following lines of code in order to establish a connection to the database:"
   ]
  },
  {
   "cell_type": "code",
   "execution_count": null,
   "metadata": {},
   "outputs": [],
   "source": [
    "# [Python]\n",
    "\n",
    "# (Install and) load relevant packages here:\n",
    "import sqlite3\n",
    "\n",
    "# Establish connection to the SQLite database \"soccer.sqlite\":\n",
    "con = sqlite3.connect(\"data/soccer.sqlite\") # Set YOUR file path here!"
   ]
  },
  {
   "cell_type": "markdown",
   "metadata": {},
   "source": [
    "<div class=\"alert alert-block alert-info\">\n",
    "\n",
    "6. By performing adequate SQL queries, answer the following questions:</br>\n",
    "a) What are the team IDs of *FC Bayern Munich* and *Borussia Dortmund*?\n",
    "</div>"
   ]
  },
  {
   "cell_type": "code",
   "execution_count": null,
   "metadata": {},
   "outputs": [],
   "source": []
  },
  {
   "cell_type": "markdown",
   "metadata": {},
   "source": [
    "<div class=\"alert alert-block alert-info\">\n",
    "b) What is the match ID of the match between *FC Bayern Munich* (home team) and *Borussia Dortmund* (away team) in the season of 2015/2016?\n",
    "</div>"
   ]
  },
  {
   "cell_type": "code",
   "execution_count": null,
   "metadata": {},
   "outputs": [],
   "source": []
  },
  {
   "cell_type": "markdown",
   "metadata": {},
   "source": [
    "<div class=\"alert alert-block alert-info\">\n",
    "c) When, i.e., on which date, did the match between *FC Bayern Munich* and *Borussia Dortmund* in the season 2015/2016 (``id`` identified in b) take place?\n",
    "</div>"
   ]
  },
  {
   "cell_type": "code",
   "execution_count": null,
   "metadata": {},
   "outputs": [],
   "source": []
  },
  {
   "cell_type": "markdown",
   "metadata": {},
   "source": [
    "<div class=\"alert alert-block alert-info\">\n",
    "d) What were the names of the players who appeared in this match for *FC Bayern Munich* (i.e., the home team players)?\n",
    "</div>"
   ]
  },
  {
   "cell_type": "code",
   "execution_count": null,
   "metadata": {},
   "outputs": [],
   "source": []
  },
  {
   "cell_type": "markdown",
   "metadata": {},
   "source": [
    "<div class=\"alert alert-block alert-info\">\n",
    "e) What is the average ``height`` and ``weight`` of the players identified in d)?\n",
    "</div>"
   ]
  },
  {
   "cell_type": "code",
   "execution_count": null,
   "metadata": {},
   "outputs": [],
   "source": []
  },
  {
   "cell_type": "markdown",
   "metadata": {},
   "source": [
    "<div class=\"alert alert-block alert-info\">\n",
    "f) How many different leagues (``league_id``) are represented in the table ``Match``?\n",
    "</div>"
   ]
  },
  {
   "cell_type": "code",
   "execution_count": null,
   "metadata": {},
   "outputs": [],
   "source": []
  }
 ],
 "metadata": {
  "kernelspec": {
   "display_name": "Python 3 (ipykernel)",
   "language": "python",
   "name": "python3"
  },
  "language_info": {
   "codemirror_mode": {
    "name": "ipython",
    "version": 3
   },
   "file_extension": ".py",
   "mimetype": "text/x-python",
   "name": "python",
   "nbconvert_exporter": "python",
   "pygments_lexer": "ipython3",
   "version": "3.9.13"
  },
  "vscode": {
   "interpreter": {
    "hash": "b0fa6594d8f4cbf19f97940f81e996739fb7646882a419484c72d19e05852a7e"
   }
  }
 },
 "nbformat": 4,
 "nbformat_minor": 2
}
